{
 "cells": [
  {
   "cell_type": "markdown",
   "id": "b12f1f87",
   "metadata": {},
   "source": [
    "### session 2"
   ]
  },
  {
   "cell_type": "markdown",
   "id": "bf5190b4",
   "metadata": {},
   "source": []
  },
  {
   "cell_type": "code",
   "execution_count": null,
   "id": "faf4d3b6",
   "metadata": {},
   "outputs": [
    {
     "name": "stdout",
     "output_type": "stream",
     "text": [
      "1 and 2 and 3 and 4 and 5\n",
      "1 / 2 / 3 / 4 / 5\n",
      "1 \n",
      "2 \n",
      "3 \n",
      "4 \n",
      "5\n"
     ]
    }
   ],
   "source": [
    "print (1,2,3,4,5, sep =' and ')\n",
    "print (1,2,3,4,5, sep =' / ')\n",
    "print (1,2,3,4,5, sep =' \\n')"
   ]
  },
  {
   "cell_type": "code",
   "execution_count": null,
   "id": "a2304190",
   "metadata": {},
   "outputs": [],
   "source": [
    "a,b = 7,\"JOY\"\n",
    "a,b = b,a"
   ]
  },
  {
   "cell_type": "code",
   "execution_count": 15,
   "id": "2c5c86ec",
   "metadata": {},
   "outputs": [
    {
     "name": "stdout",
     "output_type": "stream",
     "text": [
      "Hello,dhigbdf!\n"
     ]
    }
   ],
   "source": [
    "   \n",
    "def name_input():\n",
    "    \"\"\"this function\n",
    "\n",
    "    Args:\n",
    "        g (_type_): _description_\n",
    "\n",
    "    Returns:\n",
    "        _type_: _description_\n",
    "    \"\"\"\n",
    "    name = input (\"enter your name:\")\n",
    "    print(\"Hello,\"+name+\"!\")\n",
    "    return None\n",
    "\n",
    "name_input()"
   ]
  },
  {
   "cell_type": "code",
   "execution_count": 3,
   "id": "dc2887d6",
   "metadata": {},
   "outputs": [
    {
     "name": "stdout",
     "output_type": "stream",
     "text": [
      "you missed it\n"
     ]
    }
   ],
   "source": [
    "num = 5\n",
    "guess =int(input(\"Enter your number:\")) \n",
    "\n",
    "if guess == num:\n",
    "    print(\"you got it\")\n",
    "else:\n",
    "    print(\"you missed it\")"
   ]
  },
  {
   "cell_type": "code",
   "execution_count": 6,
   "id": "89f0ca90",
   "metadata": {},
   "outputs": [
    {
     "name": "stdout",
     "output_type": "stream",
     "text": [
      "your total bill is $45.00\n"
     ]
    }
   ],
   "source": [
    "entry = input(\"Do you have any discount?(yes/no)\")\n",
    "entry =entry.lower()\n",
    "\n",
    "if entry == \"yes\":\n",
    "    print(\"your total bill is $45.00\")\n",
    "elif entry ==\"no\":\n",
    "    print(\"your total bill is $50.00\")\n",
    "else:\n",
    "    print(\"Invalid entry\")"
   ]
  },
  {
   "cell_type": "code",
   "execution_count": 7,
   "id": "5140c1e4",
   "metadata": {},
   "outputs": [
    {
     "name": "stdout",
     "output_type": "stream",
     "text": [
      "100 90 80 70 60 50 40 30 20 10 "
     ]
    }
   ],
   "source": [
    "for i in range(100,1,-5):\n",
    "    if i%2==0:\n",
    "     print(i, end=\" \")\n",
    "\n",
    "  \n",
    "\n"
   ]
  },
  {
   "cell_type": "code",
   "execution_count": 9,
   "id": "9018e6a5",
   "metadata": {},
   "outputs": [
    {
     "name": "stdout",
     "output_type": "stream",
     "text": [
      "5\n"
     ]
    }
   ],
   "source": [
    "name = \"wadud mahmud joy\"\n",
    "print(name.count('a')+name.count('e')+name.count('i')+name.count('o')+name.count('u'))"
   ]
  },
  {
   "cell_type": "code",
   "execution_count": 25,
   "id": "20e981c4",
   "metadata": {},
   "outputs": [
    {
     "name": "stdout",
     "output_type": "stream",
     "text": [
      "your guess is low\n",
      "your guess is low\n",
      "your guess is low\n",
      "your guess is high\n",
      "your guess is high\n",
      "Your guess is correct with 6 times\n"
     ]
    }
   ],
   "source": [
    "from random import randint \n",
    "a = randint(1,101)\n",
    "b=0\n",
    "while True:\n",
    "    entry = int(input(\"Guess and input one number:\"))\n",
    "    b+=1\n",
    "    if (entry==a):\n",
    "        print(f\"Your guess is correct with {b} times\")\n",
    "        break\n",
    "    elif (entry>a):\n",
    "        print(\"your guess is high\")\n",
    "    else:\n",
    "        print(\"your guess is low\")"
   ]
  },
  {
   "cell_type": "code",
   "execution_count": 3,
   "id": "ef56fe01",
   "metadata": {},
   "outputs": [],
   "source": [
    "fruits=[\"apple\",\"banana\",\"cherry\",\"kiwi\",\"guava\"]"
   ]
  },
  {
   "cell_type": "code",
   "execution_count": 4,
   "id": "7a7a6f31",
   "metadata": {},
   "outputs": [],
   "source": [
    "numbers=[1,2,3,4,5,6,7,8,9,99,9955,221,88,555,652]"
   ]
  },
  {
   "cell_type": "code",
   "execution_count": 5,
   "id": "b2014ee1",
   "metadata": {},
   "outputs": [
    {
     "data": {
      "text/plain": [
       "[1, 4, 7, 99, 88]"
      ]
     },
     "execution_count": 5,
     "metadata": {},
     "output_type": "execute_result"
    }
   ],
   "source": [
    "numbers[::3]"
   ]
  },
  {
   "cell_type": "code",
   "execution_count": 6,
   "id": "2ab9bbff",
   "metadata": {},
   "outputs": [
    {
     "data": {
      "text/plain": [
       "[652, 88, 9955, 9, 7, 5, 3, 1]"
      ]
     },
     "execution_count": 6,
     "metadata": {},
     "output_type": "execute_result"
    }
   ],
   "source": [
    "numbers[::-2]"
   ]
  },
  {
   "cell_type": "code",
   "execution_count": 7,
   "id": "d2d69f0f",
   "metadata": {},
   "outputs": [
    {
     "name": "stdout",
     "output_type": "stream",
     "text": [
      "1\n",
      "2\n",
      "3\n",
      "4\n",
      "5\n",
      "6\n",
      "7\n",
      "8\n",
      "9\n",
      "99\n",
      "9955\n",
      "221\n",
      "88\n",
      "555\n",
      "652\n"
     ]
    }
   ],
   "source": [
    "for i in numbers:\n",
    "    print (i)"
   ]
  },
  {
   "cell_type": "code",
   "execution_count": 8,
   "id": "874fc558",
   "metadata": {},
   "outputs": [
    {
     "name": "stdout",
     "output_type": "stream",
     "text": [
      "12345678999995522188555652"
     ]
    }
   ],
   "source": [
    "for i in numbers:\n",
    "    print (i, end=\"\")"
   ]
  },
  {
   "cell_type": "code",
   "execution_count": 11,
   "id": "4ab89fda",
   "metadata": {},
   "outputs": [
    {
     "name": "stdout",
     "output_type": "stream",
     "text": [
      "[6, 8, 10, 12, 14]\n"
     ]
    }
   ],
   "source": [
    "lst=[]\n",
    "for x in range(1,10,2):\n",
    "    lst.append(x+5)\n",
    "    \n",
    "print(lst)"
   ]
  },
  {
   "cell_type": "code",
   "execution_count": 12,
   "id": "81ef1c29",
   "metadata": {},
   "outputs": [
    {
     "data": {
      "text/plain": [
       "[6, 8, 10, 12, 14]"
      ]
     },
     "execution_count": 12,
     "metadata": {},
     "output_type": "execute_result"
    }
   ],
   "source": [
    "[x+5 for x in range (1,10,2)]"
   ]
  },
  {
   "cell_type": "code",
   "execution_count": null,
   "id": "70a24fbe",
   "metadata": {},
   "outputs": [
    {
     "data": {
      "text/plain": [
       "[0, 1, 2, 3, 4, 5, 6, 7, 8, 9]"
      ]
     },
     "execution_count": 1,
     "metadata": {},
     "output_type": "execute_result"
    }
   ],
   "source": [
    "[x for x in range(10)]"
   ]
  },
  {
   "cell_type": "code",
   "execution_count": 2,
   "id": "68b8fee3",
   "metadata": {},
   "outputs": [
    {
     "data": {
      "text/plain": [
       "[1, 3, 5, 7, 9]"
      ]
     },
     "execution_count": 2,
     "metadata": {},
     "output_type": "execute_result"
    }
   ],
   "source": [
    "[x for x in range(1,11,2)]\n"
   ]
  },
  {
   "cell_type": "code",
   "execution_count": 10,
   "id": "1373c1ea",
   "metadata": {},
   "outputs": [
    {
     "name": "stdout",
     "output_type": "stream",
     "text": [
      "[50, 100, 'No Power-Up', 200, 'No Power-Up', 150]\n"
     ]
    }
   ],
   "source": [
    "levels=[50,100,0,200,0,150]\n",
    "\n",
    "levels.insert(2,\"No Power-Up\")\n",
    "levels.remove(0)\n",
    "levels.insert(4,\"No Power-Up\")\n",
    "levels.remove(0)\n",
    "\n",
    "print(levels)"
   ]
  },
  {
   "cell_type": "code",
   "execution_count": 13,
   "id": "3ca73242",
   "metadata": {},
   "outputs": [
    {
     "name": "stdout",
     "output_type": "stream",
     "text": [
      "50,100,No Power-Up,200,No Power-Up,150,"
     ]
    }
   ],
   "source": [
    "levels=[50,100,0,200,0,150]\n",
    "for i in levels:\n",
    "    if i==0:\n",
    "        i=\"No Power-Up\"\n",
    "    print(i,end=\",\")    "
   ]
  },
  {
   "cell_type": "code",
   "execution_count": 14,
   "id": "5f868efb",
   "metadata": {},
   "outputs": [
    {
     "data": {
      "text/plain": [
       "[50, 100, 'No Power Up', 200, 'No Power Up', 150]"
      ]
     },
     "execution_count": 14,
     "metadata": {},
     "output_type": "execute_result"
    }
   ],
   "source": [
    "[\"No Power Up\" if i==0 else i for i in levels]"
   ]
  },
  {
   "cell_type": "code",
   "execution_count": 16,
   "id": "1afd0e51",
   "metadata": {},
   "outputs": [
    {
     "name": "stdout",
     "output_type": "stream",
     "text": [
      "[2, 1, 0, 3]\n"
     ]
    }
   ],
   "source": [
    "import emoji\n",
    "messages = ['😊🎉', 'Hi there! 😊', 'No emojis here!', '🔥🔥😊']\n",
    "emoji_count= []\n",
    "for i in messages:\n",
    "    emoji_count.append(emoji.emoji_count(i))\n",
    "print(emoji_count)\n"
   ]
  },
  {
   "cell_type": "code",
   "execution_count": 8,
   "id": "55e1d897",
   "metadata": {},
   "outputs": [],
   "source": [
    "text=\"welcome to bangladesh. the beautiful and peaceful country ever. the natural beauty of bangladesh attract every people.\"\n",
    "words=text.split('.')"
   ]
  },
  {
   "cell_type": "code",
   "execution_count": null,
   "id": "f9bb4c73",
   "metadata": {},
   "outputs": [
    {
     "name": "stdout",
     "output_type": "stream",
     "text": [
      "{'', ' the beautiful and peaceful country ever', ' the natural beauty of bangladesh attract every people', 'welcome to bangladesh'}\n",
      "4\n"
     ]
    }
   ],
   "source": [
    "unique_words=set(words)\n",
    "print(unique_words)\n",
    "print(len(unique_words))\n",
    "if text<=len(2)\n",
    "    "
   ]
  },
  {
   "cell_type": "code",
   "execution_count": null,
   "id": "92e17468",
   "metadata": {},
   "outputs": [],
   "source": []
  }
 ],
 "metadata": {
  "kernelspec": {
   "display_name": "Python 3",
   "language": "python",
   "name": "python3"
  },
  "language_info": {
   "codemirror_mode": {
    "name": "ipython",
    "version": 3
   },
   "file_extension": ".py",
   "mimetype": "text/x-python",
   "name": "python",
   "nbconvert_exporter": "python",
   "pygments_lexer": "ipython3",
   "version": "3.12.10"
  }
 },
 "nbformat": 4,
 "nbformat_minor": 5
}
