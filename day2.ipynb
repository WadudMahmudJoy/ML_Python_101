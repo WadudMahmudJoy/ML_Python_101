{
 "cells": [
  {
   "cell_type": "markdown",
   "id": "b12f1f87",
   "metadata": {},
   "source": [
    "### session 2"
   ]
  },
  {
   "cell_type": "markdown",
   "id": "bf5190b4",
   "metadata": {},
   "source": []
  },
  {
   "cell_type": "code",
   "execution_count": null,
   "id": "faf4d3b6",
   "metadata": {},
   "outputs": [
    {
     "name": "stdout",
     "output_type": "stream",
     "text": [
      "1 and 2 and 3 and 4 and 5\n",
      "1 / 2 / 3 / 4 / 5\n",
      "1 \n",
      "2 \n",
      "3 \n",
      "4 \n",
      "5\n"
     ]
    }
   ],
   "source": [
    "print (1,2,3,4,5, sep =' and ')\n",
    "print (1,2,3,4,5, sep =' / ')\n",
    "print (1,2,3,4,5, sep =' \\n')"
   ]
  },
  {
   "cell_type": "code",
   "execution_count": null,
   "id": "a2304190",
   "metadata": {},
   "outputs": [],
   "source": [
    "a,b = 7,\"JOY\"\n",
    "a,b = b,a"
   ]
  },
  {
   "cell_type": "code",
   "execution_count": 15,
   "id": "2c5c86ec",
   "metadata": {},
   "outputs": [
    {
     "name": "stdout",
     "output_type": "stream",
     "text": [
      "Hello,dhigbdf!\n"
     ]
    }
   ],
   "source": [
    "   \n",
    "def name_input():\n",
    "    \"\"\"this function\n",
    "\n",
    "    Args:\n",
    "        g (_type_): _description_\n",
    "\n",
    "    Returns:\n",
    "        _type_: _description_\n",
    "    \"\"\"\n",
    "    name = input (\"enter your name:\")\n",
    "    print(\"Hello,\"+name+\"!\")\n",
    "    return None\n",
    "\n",
    "name_input()"
   ]
  },
  {
   "cell_type": "code",
   "execution_count": null,
   "id": "dc2887d6",
   "metadata": {},
   "outputs": [],
   "source": []
  }
 ],
 "metadata": {
  "kernelspec": {
   "display_name": "Python 3",
   "language": "python",
   "name": "python3"
  },
  "language_info": {
   "codemirror_mode": {
    "name": "ipython",
    "version": 3
   },
   "file_extension": ".py",
   "mimetype": "text/x-python",
   "name": "python",
   "nbconvert_exporter": "python",
   "pygments_lexer": "ipython3",
   "version": "3.12.10"
  }
 },
 "nbformat": 4,
 "nbformat_minor": 5
}
